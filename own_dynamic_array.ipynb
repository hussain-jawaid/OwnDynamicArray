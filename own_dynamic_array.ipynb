{
 "cells": [
  {
   "cell_type": "code",
   "execution_count": 1,
   "id": "b0335344-996d-4d11-b85f-ea4245e32207",
   "metadata": {},
   "outputs": [],
   "source": [
    "import ctypes"
   ]
  },
  {
   "cell_type": "code",
   "execution_count": 215,
   "id": "ea26a6c9-c0c5-41a4-8540-1a959ad9cd59",
   "metadata": {},
   "outputs": [],
   "source": [
    "class OwnDynamicArray:\n",
    "    def __init__(self):\n",
    "        self.size = 1\n",
    "        self.n = 0\n",
    "        self.A = self.__create_array(self.size)\n",
    "\n",
    "    def __len__(self):\n",
    "        return self.n\n",
    "\n",
    "    def append(self, item):\n",
    "        if self.size == self.n:\n",
    "            # resize the array\n",
    "            self.__resize(self.size*2)\n",
    "\n",
    "        # append\n",
    "        self.A[self.n] = item\n",
    "        self.n+=1\n",
    "\n",
    "    def __str__(self):\n",
    "        result = ''\n",
    "        for i in range(self.n):\n",
    "            result += f\"{str(self.A[i])}, \"\n",
    "        return f\"[{result[:-2]}]\"\n",
    "\n",
    "    def __getitem__(self, key):\n",
    "        if not isinstance(key, slice):\n",
    "            if key >= self.n or key < -self.n:\n",
    "                raise IndexError(\"Index out of range\")\n",
    "        return self.A[key]\n",
    "\n",
    "    def pop(self, index=None):\n",
    "        if self.n == 0:\n",
    "            raise IndexError(\"Pop from empty list\")\n",
    "\n",
    "        if index is None:\n",
    "            index = self.n - 1\n",
    "\n",
    "        if not 0 <= index < self.n:\n",
    "            raise IndexError(\"Index out of range\")\n",
    "\n",
    "        value = self.A[index]\n",
    "\n",
    "        # shift elements to the left\n",
    "        for i in range(index, self.n-1):\n",
    "            self.A[i] = self.A[i+1]\n",
    "        \n",
    "        self.A[self.n - 1] = None\n",
    "        self.n -= 1\n",
    "\n",
    "        return value\n",
    "\n",
    "    def clear(self):\n",
    "        self.size = 1\n",
    "        self.n = 0\n",
    "\n",
    "    def index(self, item):\n",
    "        for i in range(self.n):\n",
    "            if self.A[i] == item:\n",
    "                return i\n",
    "        raise ValueError(f\"{item} is not in list\")\n",
    "\n",
    "    def insert(self, idx, item):\n",
    "        if not 0 <= idx <= self.n:\n",
    "            raise IndexError(\"Invalid Index\")\n",
    "            \n",
    "        if self.size == self.n:\n",
    "            self.__resize(self.size*2)\n",
    "\n",
    "        # insert an item\n",
    "        for i in range(self.n, idx, -1):\n",
    "            self.A[i] = self.A[i-1]\n",
    "        self.A[idx] = item\n",
    "        self.n += 1\n",
    "\n",
    "    def __delitem__(self, idx):\n",
    "        if not 0 <= idx < self.n:\n",
    "            raise IndexError(\"Invalid Index\")\n",
    "            \n",
    "        for i in range(idx, self.n-1):\n",
    "            self.A[i] = self.A[i+1]\n",
    "        self.A[self.n-1] = None\n",
    "        self.n-=1\n",
    "\n",
    "    def remove(self, item):\n",
    "        # get the index\n",
    "        idx = self.index(item)\n",
    "\n",
    "        # remove the item\n",
    "        self.__delitem__(idx)\n",
    "\n",
    "    def __iter__(self):\n",
    "        for i in range(self.n):\n",
    "            yield self.A[i]\n",
    "\n",
    "    def sort(self, reverse=False):\n",
    "        for i in range(self.n):\n",
    "            for j in range(0, self.n - i - 1):\n",
    "                if (not reverse and self.A[j] > self.A[j + 1]) or (reverse and self.A[j] < self.A[j + 1]):\n",
    "                    # swap\n",
    "                    self.A[j], self.A[j + 1] = self.A[j + 1], self.A[j]\n",
    "\n",
    "    def extend(self, arr2):\n",
    "        for i in arr2:\n",
    "            self.append(i)\n",
    "\n",
    "    def __add__(self, other):\n",
    "        new_array = OwnDynamicArray()\n",
    "        for i in self:\n",
    "            new_array.append(i)\n",
    "        for i in other:\n",
    "            new_array.append(i)\n",
    "        print(new_array)\n",
    "\n",
    "    def __resize(self, new_capacity):\n",
    "        # resize the array\n",
    "        B = self.__create_array(new_capacity)\n",
    "        self.size = new_capacity\n",
    "\n",
    "        # copy the content of A to B\n",
    "        for i in range(self.n):\n",
    "            B[i] = self.A[i]\n",
    "        # reassign A\n",
    "        self.A = B\n",
    "        \n",
    "    def __create_array(self, capacity):\n",
    "        return (ctypes.py_object * capacity)()\n",
    "    "
   ]
  },
  {
   "cell_type": "code",
   "execution_count": 205,
   "id": "17c3ee60-6817-4434-8d42-4bc1054a4662",
   "metadata": {},
   "outputs": [],
   "source": [
    "arr = OwnDynamicArray()"
   ]
  },
  {
   "cell_type": "code",
   "execution_count": 206,
   "id": "602b73a2-a037-4864-90db-3aeea080a8d5",
   "metadata": {},
   "outputs": [
    {
     "data": {
      "text/plain": [
       "0"
      ]
     },
     "execution_count": 206,
     "metadata": {},
     "output_type": "execute_result"
    }
   ],
   "source": [
    "len(arr)"
   ]
  },
  {
   "cell_type": "code",
   "execution_count": 207,
   "id": "9932c98d-40e6-41ba-9f08-ce37d431104b",
   "metadata": {},
   "outputs": [],
   "source": [
    "arr.append(2)\n",
    "arr.append(1)\n",
    "arr.append(4)\n",
    "arr.append(7)"
   ]
  },
  {
   "cell_type": "code",
   "execution_count": 179,
   "id": "897c93cd-3b2b-4515-ad36-c900c9d8879a",
   "metadata": {},
   "outputs": [
    {
     "data": {
      "text/plain": [
       "4"
      ]
     },
     "execution_count": 179,
     "metadata": {},
     "output_type": "execute_result"
    }
   ],
   "source": [
    "len(arr)"
   ]
  },
  {
   "cell_type": "code",
   "execution_count": 180,
   "id": "7c6ddbc5-e4d4-47ef-8d09-e2e4ad9c064e",
   "metadata": {},
   "outputs": [
    {
     "name": "stdout",
     "output_type": "stream",
     "text": [
      "[2, 1, 4, 7]\n"
     ]
    }
   ],
   "source": [
    "print(arr)"
   ]
  },
  {
   "cell_type": "code",
   "execution_count": 181,
   "id": "54b10b08-4a58-420f-830e-af7e9c219138",
   "metadata": {},
   "outputs": [
    {
     "data": {
      "text/plain": [
       "[2, 1]"
      ]
     },
     "execution_count": 181,
     "metadata": {},
     "output_type": "execute_result"
    }
   ],
   "source": [
    "arr[0:2]"
   ]
  },
  {
   "cell_type": "code",
   "execution_count": 20,
   "id": "e407b159-7bfc-4787-b681-b2fde772fa3f",
   "metadata": {},
   "outputs": [],
   "source": [
    "arr.remove('s')"
   ]
  },
  {
   "cell_type": "code",
   "execution_count": 28,
   "id": "ae3b5d3c-c0e9-4334-9634-87a59d03477b",
   "metadata": {},
   "outputs": [],
   "source": [
    "arr.insert(1, 'cream')"
   ]
  },
  {
   "cell_type": "code",
   "execution_count": 58,
   "id": "ebfc78fe-1a16-4509-9611-a9740e90c59f",
   "metadata": {},
   "outputs": [],
   "source": [
    "del arr[2]"
   ]
  },
  {
   "cell_type": "code",
   "execution_count": 60,
   "id": "b107b417-05e4-4311-86f2-0df27f2547d7",
   "metadata": {},
   "outputs": [
    {
     "data": {
      "text/plain": [
       "4"
      ]
     },
     "execution_count": 60,
     "metadata": {},
     "output_type": "execute_result"
    }
   ],
   "source": [
    "arr.pop(1)"
   ]
  },
  {
   "cell_type": "code",
   "execution_count": 30,
   "id": "08c4704a-12a6-425e-8d37-7c13e1b7ffb0",
   "metadata": {},
   "outputs": [],
   "source": [
    "arr.clear()"
   ]
  },
  {
   "cell_type": "code",
   "execution_count": 65,
   "id": "db37d1ac-52bb-4ae5-85f7-34ef497336c9",
   "metadata": {},
   "outputs": [
    {
     "data": {
      "text/plain": [
       "0"
      ]
     },
     "execution_count": 65,
     "metadata": {},
     "output_type": "execute_result"
    }
   ],
   "source": [
    "arr.index(4)"
   ]
  },
  {
   "cell_type": "code",
   "execution_count": 52,
   "id": "572267a5-fc29-4da6-97af-dc28af92d0f8",
   "metadata": {},
   "outputs": [
    {
     "data": {
      "text/plain": [
       "14"
      ]
     },
     "execution_count": 52,
     "metadata": {},
     "output_type": "execute_result"
    }
   ],
   "source": [
    "sum(arr)"
   ]
  },
  {
   "cell_type": "code",
   "execution_count": 53,
   "id": "2d6dcadf-5056-44e1-b197-21839d2fd41f",
   "metadata": {},
   "outputs": [
    {
     "data": {
      "text/plain": [
       "1"
      ]
     },
     "execution_count": 53,
     "metadata": {},
     "output_type": "execute_result"
    }
   ],
   "source": [
    "min(arr)"
   ]
  },
  {
   "cell_type": "code",
   "execution_count": 54,
   "id": "d188d6c0-406b-4e52-a135-2979e8fd90e8",
   "metadata": {},
   "outputs": [
    {
     "data": {
      "text/plain": [
       "7"
      ]
     },
     "execution_count": 54,
     "metadata": {},
     "output_type": "execute_result"
    }
   ],
   "source": [
    "max(arr)"
   ]
  },
  {
   "cell_type": "code",
   "execution_count": 59,
   "id": "ea0b0117-486d-45ed-a6bb-017cf86e0094",
   "metadata": {},
   "outputs": [],
   "source": [
    "arr.sort(True)"
   ]
  },
  {
   "cell_type": "code",
   "execution_count": 39,
   "id": "cffdcb61-d8e5-40dc-af32-7dbfbcb6f807",
   "metadata": {},
   "outputs": [],
   "source": [
    "l = [1,5,6,4]\n"
   ]
  },
  {
   "cell_type": "code",
   "execution_count": 43,
   "id": "244fdbdf-3119-454c-ae10-aa4f94cbfae6",
   "metadata": {},
   "outputs": [
    {
     "data": {
      "text/plain": [
       "[1, 4, 5, 6]"
      ]
     },
     "execution_count": 43,
     "metadata": {},
     "output_type": "execute_result"
    }
   ],
   "source": [
    "l"
   ]
  },
  {
   "cell_type": "code",
   "execution_count": 216,
   "id": "cca8b005-5bb7-4c28-bd24-3e6dfa506203",
   "metadata": {},
   "outputs": [],
   "source": [
    "arr1 = OwnDynamicArray()"
   ]
  },
  {
   "cell_type": "code",
   "execution_count": 217,
   "id": "b6cb3411-869d-43d8-b0c8-feeb3050d33f",
   "metadata": {},
   "outputs": [],
   "source": [
    "arr1.append(1)\n",
    "arr1.append(2)"
   ]
  },
  {
   "cell_type": "code",
   "execution_count": 218,
   "id": "fed851d1-734d-4535-9bc9-914a98515f9f",
   "metadata": {},
   "outputs": [],
   "source": [
    "arr2 = OwnDynamicArray()"
   ]
  },
  {
   "cell_type": "code",
   "execution_count": 219,
   "id": "0ac133b3-723d-4fec-9edf-32fd76a0bfa2",
   "metadata": {},
   "outputs": [],
   "source": [
    "arr2.append(4)\n",
    "arr2.append(5)"
   ]
  },
  {
   "cell_type": "code",
   "execution_count": 194,
   "id": "1408af2f-f22b-4328-967f-fdda8160e1ee",
   "metadata": {},
   "outputs": [],
   "source": [
    "arr1.extend(arr2)"
   ]
  },
  {
   "cell_type": "code",
   "execution_count": 220,
   "id": "118fc3dc-feb4-4820-8410-64cf4468b203",
   "metadata": {},
   "outputs": [
    {
     "name": "stdout",
     "output_type": "stream",
     "text": [
      "[1, 2]\n"
     ]
    }
   ],
   "source": [
    "print(arr1)"
   ]
  },
  {
   "cell_type": "code",
   "execution_count": 221,
   "id": "fa631fb1-edcf-427f-86c9-ecf10afb5a04",
   "metadata": {},
   "outputs": [
    {
     "name": "stdout",
     "output_type": "stream",
     "text": [
      "[4, 5]\n"
     ]
    }
   ],
   "source": [
    "print(arr2)"
   ]
  },
  {
   "cell_type": "code",
   "execution_count": 222,
   "id": "0c14166c-3ff2-46e5-a4d1-9b79895de70b",
   "metadata": {},
   "outputs": [
    {
     "name": "stdout",
     "output_type": "stream",
     "text": [
      "[1, 2, 4, 5]\n"
     ]
    }
   ],
   "source": [
    "arr1+arr2"
   ]
  },
  {
   "cell_type": "code",
   "execution_count": 142,
   "id": "7d703a5f-4c74-457d-b2be-3935d81acf55",
   "metadata": {},
   "outputs": [],
   "source": [
    "l = [1,2,3]"
   ]
  },
  {
   "cell_type": "code",
   "execution_count": 143,
   "id": "98668055-3074-4e45-82dd-286ff325fedc",
   "metadata": {},
   "outputs": [],
   "source": [
    "k = [4,5]"
   ]
  },
  {
   "cell_type": "code",
   "execution_count": 144,
   "id": "f07cd804-f611-49ab-84d2-43cf5aaa2305",
   "metadata": {},
   "outputs": [
    {
     "data": {
      "text/plain": [
       "[1, 2, 3, 4, 5]"
      ]
     },
     "execution_count": 144,
     "metadata": {},
     "output_type": "execute_result"
    }
   ],
   "source": [
    "l+k"
   ]
  },
  {
   "cell_type": "code",
   "execution_count": null,
   "id": "b5a44531-46d5-434e-8eb6-32669aff0db8",
   "metadata": {},
   "outputs": [],
   "source": []
  }
 ],
 "metadata": {
  "kernelspec": {
   "display_name": "Python 3 (ipykernel)",
   "language": "python",
   "name": "python3"
  },
  "language_info": {
   "codemirror_mode": {
    "name": "ipython",
    "version": 3
   },
   "file_extension": ".py",
   "mimetype": "text/x-python",
   "name": "python",
   "nbconvert_exporter": "python",
   "pygments_lexer": "ipython3",
   "version": "3.10.11"
  }
 },
 "nbformat": 4,
 "nbformat_minor": 5
}
